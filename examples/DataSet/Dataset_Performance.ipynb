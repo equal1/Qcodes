{
 "cells": [
  {
   "cell_type": "markdown",
   "metadata": {},
   "source": [
    "# DataSet Performance\n",
    "\n",
    "This notebook shows the trade-off between inserting data into a database row-by-row and as binary blobs. Inserting the data row-by-row means that we have direct access to all the data and may perform queries directly on the values of the data. On the other hand, as we shall see, this is much slower than inserting the data directly as binary blobs."
   ]
  },
  {
   "cell_type": "markdown",
   "metadata": {},
   "source": [
    "First, we choose a new location for the database to ensure that we don't add a bunch of benchmarking data to the default one."
   ]
  },
  {
   "cell_type": "code",
   "execution_count": 1,
   "metadata": {
    "execution": {
     "iopub.execute_input": "2024-07-10T14:31:43.656643Z",
     "iopub.status.busy": "2024-07-10T14:31:43.656271Z",
     "iopub.status.idle": "2024-07-10T14:31:44.542123Z",
     "shell.execute_reply": "2024-07-10T14:31:44.541513Z"
    }
   },
   "outputs": [
    {
     "name": "stdout",
     "output_type": "stream",
     "text": [
      "Logging hadn't been started.\n",
      "Activating auto-logging. Current session state plus future input saved.\n",
      "Filename       : /home/runner/.qcodes/logs/command_history.log\n",
      "Mode           : append\n",
      "Output logging : True\n",
      "Raw input log  : False\n",
      "Timestamping   : True\n",
      "State          : active\n"
     ]
    },
    {
     "name": "stdout",
     "output_type": "stream",
     "text": [
      "Qcodes Logfile : /home/runner/.qcodes/logs/240710-13025-qcodes.log\n"
     ]
    }
   ],
   "source": [
    "import os\n",
    "\n",
    "cwd = os.getcwd()\n",
    "import qcodes as qc\n",
    "\n",
    "qc.config[\"core\"][\"db_location\"] = os.path.join(cwd, 'testing.db')"
   ]
  },
  {
   "cell_type": "code",
   "execution_count": 2,
   "metadata": {
    "execution": {
     "iopub.execute_input": "2024-07-10T14:31:44.544852Z",
     "iopub.status.busy": "2024-07-10T14:31:44.544412Z",
     "iopub.status.idle": "2024-07-10T14:31:44.836361Z",
     "shell.execute_reply": "2024-07-10T14:31:44.835736Z"
    }
   },
   "outputs": [],
   "source": [
    "%matplotlib inline\n",
    "import time\n",
    "from pathlib import Path\n",
    "\n",
    "import matplotlib.pyplot as plt\n",
    "import numpy as np\n",
    "\n",
    "import qcodes as qc\n",
    "from qcodes.dataset import (\n",
    "    Measurement,\n",
    "    initialise_or_create_database_at,\n",
    "    load_or_create_experiment,\n",
    ")\n",
    "from qcodes.parameters import ManualParameter"
   ]
  },
  {
   "cell_type": "code",
   "execution_count": 3,
   "metadata": {
    "execution": {
     "iopub.execute_input": "2024-07-10T14:31:44.839145Z",
     "iopub.status.busy": "2024-07-10T14:31:44.838760Z",
     "iopub.status.idle": "2024-07-10T14:31:44.883524Z",
     "shell.execute_reply": "2024-07-10T14:31:44.882888Z"
    }
   },
   "outputs": [],
   "source": [
    "initialise_or_create_database_at(Path.cwd() / \"dataset_performance.db\")\n",
    "exp = load_or_create_experiment(experiment_name='tutorial_exp', sample_name=\"no sample\")"
   ]
  },
  {
   "cell_type": "markdown",
   "metadata": {},
   "source": [
    "Here, we define a simple function to benchmark the time it takes to insert n points with either numeric or array data type.\n",
    "We will compare both the time used to call ``add_result`` and the time used for the full measurement."
   ]
  },
  {
   "cell_type": "code",
   "execution_count": 4,
   "metadata": {
    "execution": {
     "iopub.execute_input": "2024-07-10T14:31:44.886661Z",
     "iopub.status.busy": "2024-07-10T14:31:44.886081Z",
     "iopub.status.idle": "2024-07-10T14:31:44.895949Z",
     "shell.execute_reply": "2024-07-10T14:31:44.895396Z"
    }
   },
   "outputs": [],
   "source": [
    "def insert_data(paramtype, npoints, nreps=1):\n",
    "\n",
    "    meas = Measurement(exp=exp)\n",
    "\n",
    "    x1 = ManualParameter('x1')\n",
    "    x2 = ManualParameter('x2')\n",
    "    x3 = ManualParameter('x3')\n",
    "    y1 = ManualParameter('y1')\n",
    "    y2 = ManualParameter('y2')\n",
    "\n",
    "    meas.register_parameter(x1, paramtype=paramtype)\n",
    "    meas.register_parameter(x2, paramtype=paramtype)\n",
    "    meas.register_parameter(x3, paramtype=paramtype)\n",
    "    meas.register_parameter(y1, setpoints=[x1, x2, x3],\n",
    "                            paramtype=paramtype)\n",
    "    meas.register_parameter(y2, setpoints=[x1, x2, x3],\n",
    "                            paramtype=paramtype)\n",
    "    start = time.perf_counter()\n",
    "    with meas.run() as datasaver:\n",
    "        start_adding = time.perf_counter()\n",
    "        for i in range(nreps):\n",
    "            datasaver.add_result((x1, np.random.rand(npoints)),\n",
    "                                 (x2, np.random.rand(npoints)),\n",
    "                                 (x3, np.random.rand(npoints)),\n",
    "                                 (y1, np.random.rand(npoints)),\n",
    "                                 (y2, np.random.rand(npoints)))\n",
    "        stop_adding = time.perf_counter()\n",
    "        run_id = datasaver.run_id\n",
    "    stop = time.perf_counter()\n",
    "    tot_time = stop - start\n",
    "    add_time = stop_adding - start_adding\n",
    "    return tot_time, add_time, run_id"
   ]
  },
  {
   "cell_type": "markdown",
   "metadata": {},
   "source": [
    "## Comparison between numeric/array data and binary blob"
   ]
  },
  {
   "cell_type": "markdown",
   "metadata": {},
   "source": [
    "### Case1: Short experiment time"
   ]
  },
  {
   "cell_type": "code",
   "execution_count": 5,
   "metadata": {
    "execution": {
     "iopub.execute_input": "2024-07-10T14:31:44.898435Z",
     "iopub.status.busy": "2024-07-10T14:31:44.898007Z",
     "iopub.status.idle": "2024-07-10T14:31:45.388880Z",
     "shell.execute_reply": "2024-07-10T14:31:45.388188Z"
    }
   },
   "outputs": [
    {
     "name": "stdout",
     "output_type": "stream",
     "text": [
      "Starting experimental run with id: 1. \n",
      "Starting experimental run with id: 2. \n",
      "Starting experimental run with id: 3. \n",
      "Starting experimental run with id: 4. \n",
      "Starting experimental run with id: 5. \n",
      "Starting experimental run with id: 6. \n",
      "Starting experimental run with id: 7. \n"
     ]
    },
    {
     "name": "stdout",
     "output_type": "stream",
     "text": [
      "Starting experimental run with id: 8. \n",
      "Starting experimental run with id: 9. \n",
      "Starting experimental run with id: 10. \n",
      "Starting experimental run with id: 11. \n",
      "Starting experimental run with id: 12. \n",
      "Starting experimental run with id: 13. \n"
     ]
    },
    {
     "name": "stdout",
     "output_type": "stream",
     "text": [
      "Starting experimental run with id: 14. \n"
     ]
    }
   ],
   "source": [
    "sizes = [1,500,1000,2000,3000,4000,5000]\n",
    "t_numeric = []\n",
    "t_numeric_add = []\n",
    "t_array = []\n",
    "t_array_add = []\n",
    "for size in sizes:\n",
    "    tn, tna, run_id_n =  insert_data('numeric', size)\n",
    "    t_numeric.append(tn)\n",
    "    t_numeric_add.append(tna)\n",
    "\n",
    "    ta, taa, run_id_a =  insert_data('array', size)\n",
    "    t_array.append(ta)\n",
    "    t_array_add.append(taa)"
   ]
  },
  {
   "cell_type": "code",
   "execution_count": 6,
   "metadata": {
    "execution": {
     "iopub.execute_input": "2024-07-10T14:31:45.392872Z",
     "iopub.status.busy": "2024-07-10T14:31:45.392430Z",
     "iopub.status.idle": "2024-07-10T14:31:45.615898Z",
     "shell.execute_reply": "2024-07-10T14:31:45.615201Z"
    }
   },
   "outputs": [
    {
     "data": {
      "image/png": "[encoded data removed]",
      "text/plain": [
       "<Figure size 640x480 with 1 Axes>"
      ]
     },
     "metadata": {},
     "output_type": "display_data"
    }
   ],
   "source": [
    "fig, ax = plt.subplots(1,1)\n",
    "ax.plot(sizes, t_numeric, 'o-', label='Inserting row-by-row')\n",
    "ax.plot(sizes, t_numeric_add, 'o-', label='Inserting row-by-row: add_result only')\n",
    "ax.plot(sizes, t_array, 'd-', label='Inserting as binary blob')\n",
    "ax.plot(sizes, t_array_add, 'd-', label='Inserting as binary blob: add_result only')\n",
    "ax.legend()\n",
    "ax.set_xlabel('Array length')\n",
    "ax.set_ylabel('Time (s)')\n",
    "fig.tight_layout()"
   ]
  },
  {
   "cell_type": "markdown",
   "metadata": {},
   "source": [
    "As shown in the latter figure, the time to setup and and close the experiment is approximately 0.4 sec. In case of small array sizes, the difference between inserting values of data as arrays and inserting them row-by-row is relatively unimportant. At larger array sizes, i.e. above 10000 points, the cost of writing data as individual datapoints starts to become important.\n"
   ]
  },
  {
   "cell_type": "markdown",
   "metadata": {},
   "source": [
    "### Case2: Long experiment time "
   ]
  },
  {
   "cell_type": "code",
   "execution_count": 7,
   "metadata": {
    "execution": {
     "iopub.execute_input": "2024-07-10T14:31:45.618640Z",
     "iopub.status.busy": "2024-07-10T14:31:45.618025Z",
     "iopub.status.idle": "2024-07-10T14:32:04.934139Z",
     "shell.execute_reply": "2024-07-10T14:32:04.933479Z"
    }
   },
   "outputs": [
    {
     "name": "stdout",
     "output_type": "stream",
     "text": [
      "Starting experimental run with id: 15. \n",
      "Starting experimental run with id: 16. \n",
      "Starting experimental run with id: 17. \n"
     ]
    },
    {
     "name": "stdout",
     "output_type": "stream",
     "text": [
      "Starting experimental run with id: 18. \n",
      "Starting experimental run with id: 19. \n"
     ]
    },
    {
     "name": "stdout",
     "output_type": "stream",
     "text": [
      "Starting experimental run with id: 20. \n",
      "Starting experimental run with id: 21. \n"
     ]
    },
    {
     "name": "stdout",
     "output_type": "stream",
     "text": [
      "Starting experimental run with id: 22. \n",
      "Starting experimental run with id: 23. \n"
     ]
    },
    {
     "name": "stdout",
     "output_type": "stream",
     "text": [
      "Starting experimental run with id: 24. \n"
     ]
    },
    {
     "name": "stdout",
     "output_type": "stream",
     "text": [
      "Starting experimental run with id: 25. \n"
     ]
    },
    {
     "name": "stdout",
     "output_type": "stream",
     "text": [
      "Starting experimental run with id: 26. \n"
     ]
    },
    {
     "name": "stdout",
     "output_type": "stream",
     "text": [
      "Starting experimental run with id: 27. \n"
     ]
    },
    {
     "name": "stdout",
     "output_type": "stream",
     "text": [
      "Starting experimental run with id: 28. \n"
     ]
    }
   ],
   "source": [
    "sizes = [1,500,1000,2000,3000,4000,5000]\n",
    "nreps = 100\n",
    "t_numeric = []\n",
    "t_numeric_add = []\n",
    "t_numeric_run_ids = []\n",
    "t_array = []\n",
    "t_array_add = []\n",
    "t_array_run_ids = []\n",
    "for size in sizes:\n",
    "    tn, tna, run_id_n =  insert_data('numeric', size, nreps=nreps)\n",
    "    t_numeric.append(tn)\n",
    "    t_numeric_add.append(tna)\n",
    "    t_numeric_run_ids.append(run_id_n)\n",
    "\n",
    "    ta, taa, run_id_a =  insert_data('array', size, nreps=nreps)\n",
    "    t_array.append(ta)\n",
    "    t_array_add.append(taa)\n",
    "    t_array_run_ids.append(run_id_a)"
   ]
  },
  {
   "cell_type": "code",
   "execution_count": 8,
   "metadata": {
    "execution": {
     "iopub.execute_input": "2024-07-10T14:32:04.937313Z",
     "iopub.status.busy": "2024-07-10T14:32:04.936808Z",
     "iopub.status.idle": "2024-07-10T14:32:05.127669Z",
     "shell.execute_reply": "2024-07-10T14:32:05.127033Z"
    },
    "scrolled": true
   },
   "outputs": [
    {
     "data": {
      "image/png": "[encoded data removed]",
      "text/plain": [
       "<Figure size 640x480 with 1 Axes>"
      ]
     },
     "metadata": {},
     "output_type": "display_data"
    }
   ],
   "source": [
    "fig, ax = plt.subplots(1,1)\n",
    "ax.plot(sizes, t_numeric, 'o-', label='Inserting row-by-row')\n",
    "ax.plot(sizes, t_numeric_add, 'o-', label='Inserting row-by-row: add_result only')\n",
    "ax.plot(sizes, t_array, 'd-', label='Inserting as binary blob')\n",
    "ax.plot(sizes, t_array_add, 'd-', label='Inserting as binary blob: add_result only')\n",
    "ax.legend()\n",
    "ax.set_xlabel('Array length')\n",
    "ax.set_ylabel('Time (s)')\n",
    "fig.tight_layout()"
   ]
  },
  {
   "cell_type": "markdown",
   "metadata": {},
   "source": [
    "However, as we increase the length of the experiment, as seen here by repeating the insertion 100 times, we see a big difference between inserting values of the data row-by-row and inserting it as a binary blob."
   ]
  },
  {
   "cell_type": "markdown",
   "metadata": {},
   "source": [
    "## Loading the data "
   ]
  },
  {
   "cell_type": "code",
   "execution_count": 9,
   "metadata": {
    "execution": {
     "iopub.execute_input": "2024-07-10T14:32:05.130255Z",
     "iopub.status.busy": "2024-07-10T14:32:05.130057Z",
     "iopub.status.idle": "2024-07-10T14:32:05.133965Z",
     "shell.execute_reply": "2024-07-10T14:32:05.133355Z"
    }
   },
   "outputs": [],
   "source": [
    "from qcodes.dataset import load_by_id"
   ]
  },
  {
   "cell_type": "markdown",
   "metadata": {},
   "source": [
    "As usual you can load the data by using the ``load_by_id`` function but you will notice that the different storage methods\n",
    "are reflected in shape of the data as it is retrieved. "
   ]
  },
  {
   "cell_type": "code",
   "execution_count": 10,
   "metadata": {
    "execution": {
     "iopub.execute_input": "2024-07-10T14:32:05.136751Z",
     "iopub.status.busy": "2024-07-10T14:32:05.136565Z",
     "iopub.status.idle": "2024-07-10T14:32:05.140097Z",
     "shell.execute_reply": "2024-07-10T14:32:05.139522Z"
    }
   },
   "outputs": [],
   "source": [
    "run_id_n = t_numeric_run_ids[0]\n",
    "run_id_a = t_array_run_ids[0]"
   ]
  },
  {
   "cell_type": "code",
   "execution_count": 11,
   "metadata": {
    "execution": {
     "iopub.execute_input": "2024-07-10T14:32:05.142378Z",
     "iopub.status.busy": "2024-07-10T14:32:05.142156Z",
     "iopub.status.idle": "2024-07-10T14:32:05.151310Z",
     "shell.execute_reply": "2024-07-10T14:32:05.150688Z"
    },
    "scrolled": true
   },
   "outputs": [
    {
     "data": {
      "text/plain": [
       "{'x1': {'x1': array([0.97987247, 0.97987247, 0.76968002, 0.76968002, 0.31414399,\n",
       "         0.31414399, 0.92615075, 0.92615075, 0.28097763, 0.28097763,\n",
       "         0.97231638, 0.97231638, 0.7245691 , 0.7245691 , 0.91849146,\n",
       "         0.91849146, 0.14867282, 0.14867282, 0.51143036, 0.51143036,\n",
       "         0.12955961, 0.12955961, 0.7384202 , 0.7384202 , 0.96328495,\n",
       "         0.96328495, 0.90814567, 0.90814567, 0.95520178, 0.95520178,\n",
       "         0.88198209, 0.88198209, 0.16493472, 0.16493472, 0.00126564,\n",
       "         0.00126564, 0.52773065, 0.52773065, 0.17222176, 0.17222176,\n",
       "         0.04482012, 0.04482012, 0.92318717, 0.92318717, 0.01185387,\n",
       "         0.01185387, 0.87501291, 0.87501291, 0.93555262, 0.93555262,\n",
       "         0.09785478, 0.09785478, 0.85588843, 0.85588843, 0.09790853,\n",
       "         0.09790853, 0.66711061, 0.66711061, 0.64241394, 0.64241394,\n",
       "         0.0225439 , 0.0225439 , 0.11884469, 0.11884469, 0.27833613,\n",
       "         0.27833613, 0.99797706, 0.99797706, 0.49797982, 0.49797982,\n",
       "         0.09834442, 0.09834442, 0.87270481, 0.87270481, 0.22231777,\n",
       "         0.22231777, 0.63035981, 0.63035981, 0.10504578, 0.10504578,\n",
       "         0.2002326 , 0.2002326 , 0.9554412 , 0.9554412 , 0.23095474,\n",
       "         0.23095474, 0.53147997, 0.53147997, 0.57656808, 0.57656808,\n",
       "         0.46477753, 0.46477753, 0.91834876, 0.91834876, 0.34196404,\n",
       "         0.34196404, 0.65819228, 0.65819228, 0.62563653, 0.62563653,\n",
       "         0.28183504, 0.28183504, 0.23413977, 0.23413977, 0.84788671,\n",
       "         0.84788671, 0.36294935, 0.36294935, 0.87428064, 0.87428064,\n",
       "         0.10866517, 0.10866517, 0.13765315, 0.13765315, 0.70250108,\n",
       "         0.70250108, 0.17436088, 0.17436088, 0.74104329, 0.74104329,\n",
       "         0.94647841, 0.94647841, 0.87316204, 0.87316204, 0.72309145,\n",
       "         0.72309145, 0.66958653, 0.66958653, 0.17573686, 0.17573686,\n",
       "         0.41862491, 0.41862491, 0.74497903, 0.74497903, 0.43162455,\n",
       "         0.43162455, 0.16610137, 0.16610137, 0.00142249, 0.00142249,\n",
       "         0.21698444, 0.21698444, 0.13591422, 0.13591422, 0.92961247,\n",
       "         0.92961247, 0.47887828, 0.47887828, 0.65767826, 0.65767826,\n",
       "         0.10226614, 0.10226614, 0.11070513, 0.11070513, 0.14518251,\n",
       "         0.14518251, 0.13239358, 0.13239358, 0.30439213, 0.30439213,\n",
       "         0.43690298, 0.43690298, 0.42766391, 0.42766391, 0.03802901,\n",
       "         0.03802901, 0.0723069 , 0.0723069 , 0.9826925 , 0.9826925 ,\n",
       "         0.21686124, 0.21686124, 0.73046245, 0.73046245, 0.75304885,\n",
       "         0.75304885, 0.5139554 , 0.5139554 , 0.16942669, 0.16942669,\n",
       "         0.40150372, 0.40150372, 0.05414294, 0.05414294, 0.25484048,\n",
       "         0.25484048, 0.47757628, 0.47757628, 0.43894318, 0.43894318,\n",
       "         0.26782816, 0.26782816, 0.52297424, 0.52297424, 0.07299893,\n",
       "         0.07299893, 0.36484748, 0.36484748, 0.39322328, 0.39322328])}}"
      ]
     },
     "execution_count": 11,
     "metadata": {},
     "output_type": "execute_result"
    }
   ],
   "source": [
    "ds = load_by_id(run_id_n)\n",
    "ds.get_parameter_data('x1')"
   ]
  },
  {
   "cell_type": "markdown",
   "metadata": {},
   "source": [
    "And a dataset stored as binary arrays"
   ]
  },
  {
   "cell_type": "code",
   "execution_count": 12,
   "metadata": {
    "execution": {
     "iopub.execute_input": "2024-07-10T14:32:05.153621Z",
     "iopub.status.busy": "2024-07-10T14:32:05.153436Z",
     "iopub.status.idle": "2024-07-10T14:32:05.171794Z",
     "shell.execute_reply": "2024-07-10T14:32:05.171199Z"
    },
    "scrolled": true
   },
   "outputs": [
    {
     "data": {
      "text/plain": [
       "{'x1': {'x1': array([[0.72020621],\n",
       "         [0.72020621],\n",
       "         [0.0445605 ],\n",
       "         [0.0445605 ],\n",
       "         [0.8590956 ],\n",
       "         [0.8590956 ],\n",
       "         [0.0243836 ],\n",
       "         [0.0243836 ],\n",
       "         [0.73184342],\n",
       "         [0.73184342],\n",
       "         [0.27270668],\n",
       "         [0.27270668],\n",
       "         [0.54515801],\n",
       "         [0.54515801],\n",
       "         [0.12314171],\n",
       "         [0.12314171],\n",
       "         [0.37745236],\n",
       "         [0.37745236],\n",
       "         [0.03859088],\n",
       "         [0.03859088],\n",
       "         [0.23226307],\n",
       "         [0.23226307],\n",
       "         [0.2819062 ],\n",
       "         [0.2819062 ],\n",
       "         [0.75967862],\n",
       "         [0.75967862],\n",
       "         [0.65506244],\n",
       "         [0.65506244],\n",
       "         [0.47725226],\n",
       "         [0.47725226],\n",
       "         [0.37945111],\n",
       "         [0.37945111],\n",
       "         [0.3587405 ],\n",
       "         [0.3587405 ],\n",
       "         [0.12804012],\n",
       "         [0.12804012],\n",
       "         [0.63151379],\n",
       "         [0.63151379],\n",
       "         [0.45050381],\n",
       "         [0.45050381],\n",
       "         [0.03914181],\n",
       "         [0.03914181],\n",
       "         [0.68303846],\n",
       "         [0.68303846],\n",
       "         [0.69277566],\n",
       "         [0.69277566],\n",
       "         [0.1881186 ],\n",
       "         [0.1881186 ],\n",
       "         [0.41443877],\n",
       "         [0.41443877],\n",
       "         [0.69852355],\n",
       "         [0.69852355],\n",
       "         [0.39944707],\n",
       "         [0.39944707],\n",
       "         [0.5546676 ],\n",
       "         [0.5546676 ],\n",
       "         [0.45432957],\n",
       "         [0.45432957],\n",
       "         [0.38361786],\n",
       "         [0.38361786],\n",
       "         [0.68903858],\n",
       "         [0.68903858],\n",
       "         [0.4007501 ],\n",
       "         [0.4007501 ],\n",
       "         [0.92394812],\n",
       "         [0.92394812],\n",
       "         [0.5790902 ],\n",
       "         [0.5790902 ],\n",
       "         [0.86437241],\n",
       "         [0.86437241],\n",
       "         [0.40822288],\n",
       "         [0.40822288],\n",
       "         [0.16694513],\n",
       "         [0.16694513],\n",
       "         [0.00322669],\n",
       "         [0.00322669],\n",
       "         [0.61690918],\n",
       "         [0.61690918],\n",
       "         [0.06908156],\n",
       "         [0.06908156],\n",
       "         [0.75343816],\n",
       "         [0.75343816],\n",
       "         [0.44350722],\n",
       "         [0.44350722],\n",
       "         [0.79776851],\n",
       "         [0.79776851],\n",
       "         [0.18372745],\n",
       "         [0.18372745],\n",
       "         [0.29173372],\n",
       "         [0.29173372],\n",
       "         [0.67188898],\n",
       "         [0.67188898],\n",
       "         [0.11754289],\n",
       "         [0.11754289],\n",
       "         [0.07711076],\n",
       "         [0.07711076],\n",
       "         [0.15081042],\n",
       "         [0.15081042],\n",
       "         [0.89103445],\n",
       "         [0.89103445],\n",
       "         [0.67002997],\n",
       "         [0.67002997],\n",
       "         [0.54799371],\n",
       "         [0.54799371],\n",
       "         [0.13934441],\n",
       "         [0.13934441],\n",
       "         [0.54021958],\n",
       "         [0.54021958],\n",
       "         [0.04115995],\n",
       "         [0.04115995],\n",
       "         [0.39640735],\n",
       "         [0.39640735],\n",
       "         [0.83393245],\n",
       "         [0.83393245],\n",
       "         [0.53779553],\n",
       "         [0.53779553],\n",
       "         [0.65363322],\n",
       "         [0.65363322],\n",
       "         [0.70621636],\n",
       "         [0.70621636],\n",
       "         [0.70999894],\n",
       "         [0.70999894],\n",
       "         [0.22190794],\n",
       "         [0.22190794],\n",
       "         [0.7882923 ],\n",
       "         [0.7882923 ],\n",
       "         [0.2653427 ],\n",
       "         [0.2653427 ],\n",
       "         [0.98634598],\n",
       "         [0.98634598],\n",
       "         [0.25861788],\n",
       "         [0.25861788],\n",
       "         [0.82504418],\n",
       "         [0.82504418],\n",
       "         [0.0367836 ],\n",
       "         [0.0367836 ],\n",
       "         [0.17570521],\n",
       "         [0.17570521],\n",
       "         [0.73163388],\n",
       "         [0.73163388],\n",
       "         [0.03270622],\n",
       "         [0.03270622],\n",
       "         [0.16955806],\n",
       "         [0.16955806],\n",
       "         [0.86851666],\n",
       "         [0.86851666],\n",
       "         [0.70889081],\n",
       "         [0.70889081],\n",
       "         [0.58287067],\n",
       "         [0.58287067],\n",
       "         [0.50022748],\n",
       "         [0.50022748],\n",
       "         [0.65224195],\n",
       "         [0.65224195],\n",
       "         [0.72710249],\n",
       "         [0.72710249],\n",
       "         [0.71100033],\n",
       "         [0.71100033],\n",
       "         [0.72752858],\n",
       "         [0.72752858],\n",
       "         [0.39629026],\n",
       "         [0.39629026],\n",
       "         [0.60468807],\n",
       "         [0.60468807],\n",
       "         [0.85008392],\n",
       "         [0.85008392],\n",
       "         [0.20141773],\n",
       "         [0.20141773],\n",
       "         [0.47676934],\n",
       "         [0.47676934],\n",
       "         [0.25709016],\n",
       "         [0.25709016],\n",
       "         [0.69367644],\n",
       "         [0.69367644],\n",
       "         [0.17104441],\n",
       "         [0.17104441],\n",
       "         [0.82710039],\n",
       "         [0.82710039],\n",
       "         [0.73403824],\n",
       "         [0.73403824],\n",
       "         [0.35242409],\n",
       "         [0.35242409],\n",
       "         [0.29079177],\n",
       "         [0.29079177],\n",
       "         [0.49756459],\n",
       "         [0.49756459],\n",
       "         [0.79487299],\n",
       "         [0.79487299],\n",
       "         [0.23318666],\n",
       "         [0.23318666],\n",
       "         [0.5531216 ],\n",
       "         [0.5531216 ],\n",
       "         [0.69682489],\n",
       "         [0.69682489],\n",
       "         [0.81366789],\n",
       "         [0.81366789],\n",
       "         [0.13525398],\n",
       "         [0.13525398],\n",
       "         [0.52927057],\n",
       "         [0.52927057]])}}"
      ]
     },
     "execution_count": 12,
     "metadata": {},
     "output_type": "execute_result"
    }
   ],
   "source": [
    "ds = load_by_id(run_id_a)\n",
    "ds.get_parameter_data('x1')"
   ]
  },
  {
   "cell_type": "code",
   "execution_count": null,
   "metadata": {},
   "outputs": [],
   "source": []
  }
 ],
 "metadata": {
  "kernelspec": {
   "display_name": "Python 3",
   "language": "python",
   "name": "python3"
  },
  "language_info": {
   "codemirror_mode": {
    "name": "ipython",
    "version": 3
   },
   "file_extension": ".py",
   "mimetype": "text/x-python",
   "name": "python",
   "nbconvert_exporter": "python",
   "pygments_lexer": "ipython3",
   "version": "3.11.9"
  },
  "nbsphinx": {
   "timeout": 600
  },
  "toc": {
   "base_numbering": 1,
   "nav_menu": {},
   "number_sections": true,
   "sideBar": true,
   "skip_h1_title": false,
   "title_cell": "Table of Contents",
   "title_sidebar": "Contents",
   "toc_cell": false,
   "toc_position": {},
   "toc_section_display": true,
   "toc_window_display": false
  },
  "varInspector": {
   "cols": {
    "lenName": 16,
    "lenType": 16,
    "lenVar": 40
   },
   "kernels_config": {
    "python": {
     "delete_cmd_postfix": "",
     "delete_cmd_prefix": "del ",
     "library": "var_list.py",
     "varRefreshCmd": "print(var_dic_list())"
    },
    "r": {
     "delete_cmd_postfix": ") ",
     "delete_cmd_prefix": "rm(",
     "library": "var_list.r",
     "varRefreshCmd": "cat(var_dic_list()) "
    }
   },
   "types_to_exclude": [
    "module",
    "function",
    "builtin_function_or_method",
    "instance",
    "_Feature"
   ],
   "window_display": false
  }
 },
 "nbformat": 4,
 "nbformat_minor": 4
}
